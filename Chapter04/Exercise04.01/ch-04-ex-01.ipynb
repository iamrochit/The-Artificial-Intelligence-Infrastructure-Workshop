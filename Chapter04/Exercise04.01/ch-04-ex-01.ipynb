{
 "cells": [
  {
   "cell_type": "code",
   "execution_count": 1,
   "metadata": {},
   "outputs": [],
   "source": [
    "import spacy\n",
    "nlp = spacy.load('en_core_web_lg')"
   ]
  },
  {
   "cell_type": "code",
   "execution_count": 2,
   "metadata": {},
   "outputs": [],
   "source": [
    "good = nlp(\"good\")\n",
    "bad = nlp(\"bad\")"
   ]
  },
  {
   "cell_type": "code",
   "execution_count": 3,
   "metadata": {},
   "outputs": [
    {
     "name": "stdout",
     "output_type": "stream",
     "text": [
      "0.7721672894451931\n",
      "0.5510663256036642\n"
     ]
    }
   ],
   "source": [
    "print(nlp(\"awful\").similarity(bad))\n",
    "print(nlp(\"awful\").similarity(good))"
   ]
  },
  {
   "cell_type": "code",
   "execution_count": 4,
   "metadata": {},
   "outputs": [
    {
     "name": "stdout",
     "output_type": "stream",
     "text": [
      "0.44554479922888446\n",
      "0.5082144290607856\n"
     ]
    }
   ],
   "source": [
    "print(nlp(\"day\").similarity(bad))\n",
    "print(nlp(\"day\").similarity(good))"
   ]
  },
  {
   "cell_type": "code",
   "execution_count": 5,
   "metadata": {},
   "outputs": [
    {
     "name": "stdout",
     "output_type": "stream",
     "text": [
      "0.45386439630840125\n",
      "0.44253983217367465\n"
     ]
    }
   ],
   "source": [
    "print(nlp(\"night\").similarity(bad))\n",
    "print(nlp(\"night\").similarity(good))"
   ]
  },
  {
   "cell_type": "code",
   "execution_count": 6,
   "metadata": {},
   "outputs": [],
   "source": [
    "def polarity_good_vs_bad(word):\n",
    "    \"\"\"Returns a positive number if a word is closer to good than it is to bad, or a negative number if vice versa\n",
    "    IN: word (str): the word to compare\n",
    "    OUT: diff (float): positive if the word is closer to good, otherwise negative\n",
    "    \"\"\"\n",
    "\n",
    "    good = nlp(\"good\")\n",
    "    bad = nlp(\"bad\")\n",
    "    word = nlp(word)\n",
    "    if word and word.vector_norm:\n",
    "        sim_good = word.similarity(good)\n",
    "        sim_bad = word.similarity(bad)\n",
    "        diff = sim_good - sim_bad\n",
    "        diff = round(diff * 100, 2)\n",
    "        return diff \n",
    "    else:\n",
    "        return None\n",
    "    "
   ]
  },
  {
   "cell_type": "code",
   "execution_count": 9,
   "metadata": {},
   "outputs": [],
   "source": [
    "def contrast_pairs(pairs):\n",
    "    for pair in pairs:\n",
    "        pos_word = pair[0]\n",
    "        neg_word = pair[1]\n",
    "        pos_score = polarity_good_vs_bad(pos_word)\n",
    "        neg_score = polarity_good_vs_bad(neg_word)\n",
    "        print(f\"{pos_word}({pos_score}): {neg_word}({neg_score})\")"
   ]
  },
  {
   "cell_type": "code",
   "execution_count": 7,
   "metadata": {
    "scrolled": false
   },
   "outputs": [
    {
     "name": "stdout",
     "output_type": "stream",
     "text": [
      "day(6.27): night(-1.13)\n",
      "light(9.81): dark(-2.73)\n",
      "happy(12.52): sad(-12.81)\n",
      "love(11.95): hate(-19.3)\n",
      "strong(18.09): weak(-10.16)\n",
      "healthy(15.04): sick(-14.86)\n",
      "peace(10.31): war(-9.9)\n",
      "free(5.13): captive(-4.27)\n",
      "high(8.43): low(-0.3)\n"
     ]
    }
   ],
   "source": [
    "word_pairs_neutral = [('day', 'night'), ('light', 'dark'), ('happy', 'sad'), \n",
    "                      ('love', 'hate'), ('strong', 'weak'), ('healthy', 'sick'),\n",
    "                      ('peace','war'), ('free','captive'), ('high', 'low')\n",
    "                     ]\n",
    "\n",
    "contrast_pairs(word_pairs_neutral)"
   ]
  },
  {
   "cell_type": "code",
   "execution_count": 10,
   "metadata": {},
   "outputs": [
    {
     "name": "stdout",
     "output_type": "stream",
     "text": [
      "white(2.23): black(-1.9)\n",
      "christian(0.15): jew(-8.32)\n",
      "christian(0.15): muslim(-4.78)\n",
      "christian(0.15): atheist(-3.86)\n",
      "man(3.63): woman(-1.25)\n",
      "king(0.81): queen(-5.11)\n",
      "citizen(3.89): immigrant(-5.87)\n",
      "resident(2.17): migrant(-0.19)\n",
      "rich(11.43): poor(-10.06)\n",
      "engineer(4.23): janitor(-7.97)\n",
      "young(5.25): old(-2.84)\n",
      "native(4.86): foreigner(-3.7)\n",
      "italian(4.07): iranian(-5.07)\n",
      "swiss(4.55): mexican(-3.53)\n"
     ]
    }
   ],
   "source": [
    "word_pairs_prejudice = [('white', 'black'), ('christian', 'jew'), \n",
    "                        ('christian', 'muslim'), ('christian', 'atheist'),\n",
    "                        ('man', 'woman'), \n",
    "                        ('king', 'queen'), ('citizen', 'immigrant'),\n",
    "                        ('resident', 'migrant'), ('rich', 'poor'),\n",
    "                        ('engineer', 'janitor'), ('young', 'old'),\n",
    "                        ('native', 'foreigner'), ('italian', 'iranian'), ('swiss', 'mexican'),\n",
    "                       ]\n",
    "\n",
    "contrast_pairs(word_pairs_prejudice)"
   ]
  }
 ],
 "metadata": {
  "kernelspec": {
   "display_name": "Python 3",
   "language": "python",
   "name": "python3"
  },
  "language_info": {
   "codemirror_mode": {
    "name": "ipython",
    "version": 3
   },
   "file_extension": ".py",
   "mimetype": "text/x-python",
   "name": "python",
   "nbconvert_exporter": "python",
   "pygments_lexer": "ipython3",
   "version": "3.7.6"
  }
 },
 "nbformat": 4,
 "nbformat_minor": 2
}
