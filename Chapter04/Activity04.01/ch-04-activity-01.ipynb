{
 "cells": [
  {
   "cell_type": "code",
   "execution_count": null,
   "metadata": {},
   "outputs": [],
   "source": [
    "import spacy\n",
    "nlp = spacy.load('en_core_web_lg')"
   ]
  },
  {
   "cell_type": "markdown",
   "metadata": {},
   "source": [
    "#### Define the classifier"
   ]
  },
  {
   "cell_type": "code",
   "execution_count": null,
   "metadata": {},
   "outputs": [],
   "source": [
    "def polarity_good_vs_bad(word):\n",
    "    \"\"\"Returns a positive number if a word is closer to good than it is to bad, or a negative number if vice versa\n",
    "    IN: word (str): the word to compare\n",
    "    OUT: diff (float): positive if the word is closer to good, otherwise negative\n",
    "    \"\"\"\n",
    "\n",
    "    good = nlp(\"good\")\n",
    "    bad = nlp(\"bad\")\n",
    "    word = nlp(word)\n",
    "    if word and word.vector_norm:\n",
    "        sim_good = word.similarity(good)\n",
    "        sim_bad = word.similarity(bad)\n",
    "        diff = sim_good - sim_bad\n",
    "        diff = round(diff * 100, 2)\n",
    "        return diff \n",
    "    else:\n",
    "        return None\n",
    "    "
   ]
  },
  {
   "cell_type": "code",
   "execution_count": null,
   "metadata": {},
   "outputs": [],
   "source": [
    "# Create a list of at least 15 words that you think might have a positive or negative prejudice.\n",
    "# We are using the following 16 words for this activity\n",
    "words = \"\"\"sporty\n",
    "nerdy\n",
    "employed\n",
    "unemployed\n",
    "clever\n",
    "stupid\n",
    "latino\n",
    "asian\n",
    "caucasian\n",
    "disabled\n",
    "pregnant\n",
    "introvert\n",
    "extrovert\n",
    "politician\n",
    "florist\n",
    "CEO\"\"\""
   ]
  },
  {
   "cell_type": "markdown",
   "metadata": {},
   "source": [
    "#### Guesses \n",
    "sporty : POS <br>\n",
    "nerdy : NEG <br>\n",
    "employed : POS <br>\n",
    "unemployed : NEG <br>\n",
    "clever : POS <br>\n",
    "stupid : NEG <br>\n",
    "latino : NEG <br>\n",
    "asian : NEG <br>\n",
    "caucasian : POS <br>\n",
    "disabled : NEG <br>\n",
    "pregnant : NEG <br>\n",
    "introvert : NEG <br>\n",
    "extrovert : POS <br>\n",
    "politician : NEG <br>\n",
    "florist : POS <br>\n",
    "CEO: NEG"
   ]
  },
  {
   "cell_type": "markdown",
   "metadata": {},
   "source": [
    "#### Run the classifier on the word list and see how close your predictions were"
   ]
  },
  {
   "cell_type": "code",
   "execution_count": null,
   "metadata": {},
   "outputs": [],
   "source": [
    "for word in words.split(\"\\n\"):\n",
    "    print(word, polarity_good_vs_bad(word))"
   ]
  }
 ],
 "metadata": {
  "kernelspec": {
   "display_name": "Python 3",
   "language": "python",
   "name": "python3"
  },
  "language_info": {
   "codemirror_mode": {
    "name": "ipython",
    "version": 3
   },
   "file_extension": ".py",
   "mimetype": "text/x-python",
   "name": "python",
   "nbconvert_exporter": "python",
   "pygments_lexer": "ipython3",
   "version": "3.7.6"
  }
 },
 "nbformat": 4,
 "nbformat_minor": 2
}
